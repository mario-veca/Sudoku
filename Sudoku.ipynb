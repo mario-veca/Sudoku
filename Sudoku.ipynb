{
 "cells": [
  {
   "cell_type": "code",
   "execution_count": 1,
   "id": "77e9e1b7",
   "metadata": {},
   "outputs": [],
   "source": [
    "#(**Last Updated**: January 21, 2025)\n",
    "# Function to verify whether a proposal is valid \n",
    "def is_valid(board, row, col, num):\n",
    "    # Check whether the number is present in the same row\n",
    "    for x in range(9):\n",
    "        if board[row][x] == num:\n",
    "            return False\n",
    "    \n",
    "    # Check whether the number is present in the same column\n",
    "    for x in range(9):\n",
    "        if board[x][col] == num:\n",
    "            return False\n",
    "    \n",
    "    # Check whether the number is present in the same 3x3 square\n",
    "    start_row = row - (row % 3)\n",
    "    start_col = col - (col % 3)\n",
    "    for i in range(3):\n",
    "        for j in range(3):\n",
    "            if board[start_row + i][start_col + j] == num:\n",
    "                return False\n",
    "    \n",
    "    return True"
   ]
  },
  {
   "cell_type": "code",
   "execution_count": 2,
   "id": "5eff14b6",
   "metadata": {},
   "outputs": [],
   "source": [
    "# Function to find an empty cell\n",
    "def find_empty(board):\n",
    "    for i in range(9):\n",
    "        for j in range(9):\n",
    "            if board[i][j] == None:\n",
    "                return i, j\n",
    "    return None\n"
   ]
  },
  {
   "cell_type": "code",
   "execution_count": 3,
   "id": "13632441",
   "metadata": {},
   "outputs": [],
   "source": [
    "# Main function to solve the sudoku\n",
    "solutions = []\n",
    "\n",
    "def solve_sudoku(board):\n",
    "    empty = find_empty(board)\n",
    "    if not empty:\n",
    "        # If there are no empty cells, we found a solution\n",
    "        solutions.append([row[:] for row in board])\n",
    "        return\n",
    "    \n",
    "    row, col = empty\n",
    "\n",
    "    for num in range(1, 10):\n",
    "        if is_valid(board, row, col, num):\n",
    "            board[row][col] = num\n",
    "            solve_sudoku(board)\n",
    "            board[row][col] = None  # Backtrack\n",
    "\n"
   ]
  },
  {
   "cell_type": "code",
   "execution_count": 4,
   "id": "eb5e3ba4",
   "metadata": {},
   "outputs": [
    {
     "name": "stdout",
     "output_type": "stream",
     "text": [
      "[5, 6, 1, 7, 3, 2, 9, 4, 8]\n",
      "[8, 2, 9, 1, 6, 4, 7, 3, 5]\n",
      "[3, 7, 4, 8, 9, 5, 1, 6, 2]\n",
      "[2, 9, 3, 4, 1, 7, 5, 8, 6]\n",
      "[7, 4, 8, 5, 2, 6, 3, 9, 1]\n",
      "[1, 5, 6, 9, 8, 3, 4, 2, 7]\n",
      "[4, 3, 5, 6, 7, 8, 2, 1, 9]\n",
      "[6, 1, 7, 2, 4, 9, 8, 5, 3]\n",
      "[9, 8, 2, 3, 5, 1, 6, 7, 4]\n",
      "\n"
     ]
    }
   ],
   "source": [
    "# Example of incomplete Sudoku grid\n",
    "grid = [\n",
    "    [   5,None,   1,None,None,None,None,   4,None],\n",
    "    [None,None,None,   1,None,None,   7,None,None],\n",
    "    [None,None,None,None,   9,None,None,   6,None],\n",
    "    [   2,None,None,None,None,   7,None,None,None],\n",
    "    [   7,   4,None,None,None,   6,None,None,None],\n",
    "    [None,None,None,   9,   8,   3,None,None,None],\n",
    "    [None,   3,None,   6,None,None,None,None,   9],\n",
    "    [None,None,   7,None,None,None,   8,None,   3],\n",
    "    [None,   8,None,None,None,None,None,None,None]\n",
    "]\n",
    "\n",
    "solve_sudoku(grid)\n",
    "\n",
    "for solution in solutions:\n",
    "    for row in solution:\n",
    "        print(row)\n",
    "    print()\n"
   ]
  },
  {
   "cell_type": "code",
   "execution_count": null,
   "id": "44335c54",
   "metadata": {},
   "outputs": [],
   "source": []
  }
 ],
 "metadata": {
  "kernelspec": {
   "display_name": "Python 3 (ipykernel)",
   "language": "python",
   "name": "python3"
  },
  "language_info": {
   "codemirror_mode": {
    "name": "ipython",
    "version": 3
   },
   "file_extension": ".py",
   "mimetype": "text/x-python",
   "name": "python",
   "nbconvert_exporter": "python",
   "pygments_lexer": "ipython3",
   "version": "3.11.6"
  }
 },
 "nbformat": 4,
 "nbformat_minor": 5
}
